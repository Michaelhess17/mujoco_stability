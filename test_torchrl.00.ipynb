{
 "cells": [
  {
   "cell_type": "markdown",
   "metadata": {},
   "source": [
    "# Reinforcement Learning with TorchRL"
   ]
  },
  {
   "cell_type": "markdown",
   "metadata": {},
   "source": [
    "## Overview"
   ]
  },
  {
   "cell_type": "markdown",
   "metadata": {},
   "source": [
    "### About PPO"
   ]
  },
  {
   "cell_type": "markdown",
   "metadata": {},
   "source": [
    "PPO is a policy-gradient algorithm that attempts to use data to train a policy that maximizes the expected reward. PPO is a fast and efficient method for online, on-policy reinforcement learning. TorchRL has a PPO loss function (`ClipPPOLoss`) that we can use to train a model.\n",
    "The algorithm has two main steps:\n",
    "1. Collect data from the environment\n",
    "2. Optimize the policy using random subsamples of the collected data\n",
    "    a. `ClipPPOLoss` is a clipped version of the REINFORCE loss function.\n",
    "    b. The effect of clipping the loss is that it adds pessimistic bounds on the loss\n",
    "The formula for the loss function is:\n",
    "$L(s,a,\\theta_k,\\theta) = \\textnormal{min}(\\frac{\\pi_{\\theta}(a|s)}{\\pi_{\\theta_{k}}(a|s)}A^{\\pi_{\\theta_{k}}}(s,a), \\textnormal{clip}(\\frac{\\pi_{\\theta}(a|s)}{\\pi_{\\theta_{k}}(a|s)}, 1-\\epsilon, 1+\\epsilon)A^{\\pi_{\\theta_{k}}}(s,a))$"
   ]
  },
  {
   "cell_type": "markdown",
   "metadata": {},
   "source": [
    "### What this code does:\n",
    "1. Define hyperparameters from the environments and PPO algorithm\n",
    "2. Create gym environments using TorchRL's GymEnv and associated transforms\n",
    "3. Design a policy network and a value model, which will be used to configure the loss module\n",
    "4. Create the replay buffer and data loader objects\n",
    "5. Finally, we'll train the model using the PPO algorithm and analyze the results!"
   ]
  },
  {
   "cell_type": "markdown",
   "metadata": {},
   "source": [
    "## Code"
   ]
  },
  {
   "cell_type": "markdown",
   "metadata": {},
   "source": [
    "### Import dependencies and filter warnings"
   ]
  },
  {
   "cell_type": "code",
   "execution_count": 1,
   "metadata": {},
   "outputs": [],
   "source": [
    "import warnings\n",
    "warnings.filterwarnings(\"ignore\")\n",
    "from torch import multiprocessing\n",
    "\n",
    "\n",
    "from collections import defaultdict\n",
    "\n",
    "import matplotlib.pyplot as plt\n",
    "import torch\n",
    "from tensordict.nn import TensorDictModule\n",
    "from tensordict.nn.distributions import NormalParamExtractor\n",
    "from torch import nn\n",
    "from torchrl.collectors import SyncDataCollector\n",
    "from torchrl.data.replay_buffers import ReplayBuffer\n",
    "from torchrl.data.replay_buffers.samplers import SamplerWithoutReplacement\n",
    "from torchrl.data.replay_buffers.storages import LazyTensorStorage\n",
    "from torchrl.envs import (Compose, DoubleToFloat, ObservationNorm, StepCounter,\n",
    "                          TransformedEnv, EnvCreator, ParallelEnv)\n",
    "from torchrl.envs.libs.gym import GymEnv\n",
    "from torchrl.envs.libs.dm_control import DMControlEnv\n",
    "from torchrl.envs.utils import check_env_specs, ExplorationType, set_exploration_type\n",
    "from torchrl.modules import ProbabilisticActor, TanhNormal, ValueOperator\n",
    "from torchrl.objectives import ClipPPOLoss\n",
    "from torchrl.objectives.value import GAE\n",
    "from tqdm.auto import tqdm"
   ]
  },
  {
   "cell_type": "markdown",
   "metadata": {},
   "source": [
    "### Define hyperparameters"
   ]
  },
  {
   "cell_type": "code",
   "execution_count": 2,
   "metadata": {},
   "outputs": [],
   "source": [
    "is_fork = multiprocessing.get_start_method() == \"fork\"\n",
    "device = (\n",
    "    torch.device(0)\n",
    "    if torch.cuda.is_available() and not is_fork\n",
    "    else torch.device(\"cpu\")\n",
    ")\n",
    "num_cells = 512  # number of cells in each layer i.e. output dim.\n",
    "lr = 1e-4\n",
    "max_grad_norm = 1.0\n",
    "\n",
    "frames_per_batch = 1000\n",
    "# For a complete training, bring the number of frames up to 1M\n",
    "total_frames = 500_000"
   ]
  },
  {
   "cell_type": "markdown",
   "metadata": {},
   "source": [
    "#### PPO parameters"
   ]
  },
  {
   "cell_type": "code",
   "execution_count": 3,
   "metadata": {},
   "outputs": [],
   "source": [
    "sub_batch_size = 256  # cardinality of the sub-samples gathered from the current data in the inner loop\n",
    "num_epochs = 30  # optimization steps per batch of data collected\n",
    "clip_epsilon = (\n",
    "    0.2  # clip value for PPO loss: see the equation in the intro for more context.\n",
    ")\n",
    "gamma = 0.999\n",
    "lmbda = 0.95\n",
    "entropy_eps = 1e-4"
   ]
  },
  {
   "cell_type": "markdown",
   "metadata": {},
   "source": [
    "### Define the environment"
   ]
  },
  {
   "cell_type": "markdown",
   "metadata": {},
   "source": [
    "We will use the `GymEnv` TorchRL wrapper around the gymnasium environment. Keyword arguments can be passed to the environment, which will be forwarded to the `gymnasium.make` function, which covers most environment construction options. Alternatively, we can make an environment using `gymnasium.make` and pass it to to the `GymWrapper` class.\n",
    "Also note that we are setting the device to `device` here, which will move the environment's data to the appropriate device. However, the execution of the environment will still happen on the CPU.\n"
   ]
  },
  {
   "cell_type": "markdown",
   "metadata": {},
   "source": [
    "### Transforms"
   ]
  },
  {
   "cell_type": "markdown",
   "metadata": {},
   "source": [
    "We will have to add some transforms to the environment to prepare the data from the policy. In Gym, we do this step with wrappers. TorchRL has a `TransformedEnv` wrapper that can take a list of transforms to apply to the environment.\n",
    "We will use the following transforms:\n",
    "- `StepCounter`: Counts the number of steps taken in the environment\n",
    "- `ObservationNorm`: Normalizes the observations\n",
    "- `DoubleToFloat`: Converts the data type of the observations and actions to float"
   ]
  },
  {
   "cell_type": "code",
   "execution_count": 25,
   "metadata": {},
   "outputs": [],
   "source": [
    "# keys = [\"com_velocity\", \"extremities\", \"joint_angles\", \"velocity\", \"torso_vertical\", \"head_height\"]\n",
    "keys = [\"joint_angles\"]\n",
    "def make_environ():\n",
    "    base_env = DMControlEnv(\"humanoid\", \"walk\").to(device)\n",
    "    env = TransformedEnv(\n",
    "    base_env,\n",
    "    Compose(\n",
    "        # normalize observations\n",
    "        ObservationNorm(in_keys=keys[0]),\n",
    "        # ObservationNorm(in_keys=keys[1]),\n",
    "        # ObservationNorm(in_keys=keys[2]),\n",
    "        # ObservationNorm(in_keys=keys[3]),\n",
    "        # ObservationNorm(in_keys=keys[4]),\n",
    "        # ObservationNorm(in_keys=keys[5]),\n",
    "        DoubleToFloat(),\n",
    "        StepCounter(),\n",
    "        ),\n",
    "    )\n",
    "    [env.transform[ii].init_stats(num_iter=1000, reduce_dim=0, cat_dim=0, key=keys[ii]) for ii in range(len(keys))]\n",
    "    return env\n",
    "make_env = EnvCreator(make_environ)\n",
    "env = ParallelEnv(12, make_env)"
   ]
  },
  {
   "cell_type": "markdown",
   "metadata": {},
   "source": [
    "We are using the `ObservationNorm` transform to normalize the observations, but we need to know the normalization parameters before we can do this. We can get the initial statistics using the `ObservationNorm.init_stats` method."
   ]
  },
  {
   "cell_type": "code",
   "execution_count": 26,
   "metadata": {},
   "outputs": [
    {
     "name": "stdout",
     "output_type": "stream",
     "text": [
      "observation_spec: CompositeSpec(\n",
      "    joint_angles: UnboundedContinuousTensorSpec(\n",
      "        shape=torch.Size([12, 21]),\n",
      "        space=None,\n",
      "        device=cuda:0,\n",
      "        dtype=torch.float32,\n",
      "        domain=continuous),\n",
      "    head_height: UnboundedContinuousTensorSpec(\n",
      "        shape=torch.Size([12, 1]),\n",
      "        space=None,\n",
      "        device=cuda:0,\n",
      "        dtype=torch.float32,\n",
      "        domain=continuous),\n",
      "    extremities: UnboundedContinuousTensorSpec(\n",
      "        shape=torch.Size([12, 12]),\n",
      "        space=None,\n",
      "        device=cuda:0,\n",
      "        dtype=torch.float32,\n",
      "        domain=continuous),\n",
      "    torso_vertical: UnboundedContinuousTensorSpec(\n",
      "        shape=torch.Size([12, 3]),\n",
      "        space=None,\n",
      "        device=cuda:0,\n",
      "        dtype=torch.float32,\n",
      "        domain=continuous),\n",
      "    com_velocity: UnboundedContinuousTensorSpec(\n",
      "        shape=torch.Size([12, 3]),\n",
      "        space=None,\n",
      "        device=cuda:0,\n",
      "        dtype=torch.float32,\n",
      "        domain=continuous),\n",
      "    velocity: UnboundedContinuousTensorSpec(\n",
      "        shape=torch.Size([12, 27]),\n",
      "        space=None,\n",
      "        device=cuda:0,\n",
      "        dtype=torch.float32,\n",
      "        domain=continuous),\n",
      "    step_count: BoundedTensorSpec(\n",
      "        shape=torch.Size([12, 1]),\n",
      "        space=ContinuousBox(\n",
      "            low=Tensor(shape=torch.Size([12, 1]), device=cuda:0, dtype=torch.int64, contiguous=True),\n",
      "            high=Tensor(shape=torch.Size([12, 1]), device=cuda:0, dtype=torch.int64, contiguous=True)),\n",
      "        device=cuda:0,\n",
      "        dtype=torch.int64,\n",
      "        domain=continuous),\n",
      "    device=cuda:0,\n",
      "    shape=torch.Size([12]))\n",
      "reward_spec: UnboundedContinuousTensorSpec(\n",
      "    shape=torch.Size([12, 1]),\n",
      "    space=None,\n",
      "    device=cuda:0,\n",
      "    dtype=torch.float32,\n",
      "    domain=continuous)\n",
      "input_spec: CompositeSpec(\n",
      "    full_state_spec: CompositeSpec(\n",
      "        step_count: BoundedTensorSpec(\n",
      "            shape=torch.Size([12, 1]),\n",
      "            space=ContinuousBox(\n",
      "                low=Tensor(shape=torch.Size([12, 1]), device=cuda:0, dtype=torch.int64, contiguous=True),\n",
      "                high=Tensor(shape=torch.Size([12, 1]), device=cuda:0, dtype=torch.int64, contiguous=True)),\n",
      "            device=cuda:0,\n",
      "            dtype=torch.int64,\n",
      "            domain=continuous),\n",
      "        device=cuda:0,\n",
      "        shape=torch.Size([12])),\n",
      "    full_action_spec: CompositeSpec(\n",
      "        action: BoundedTensorSpec(\n",
      "            shape=torch.Size([12, 21]),\n",
      "            space=ContinuousBox(\n",
      "                low=Tensor(shape=torch.Size([12, 21]), device=cuda:0, dtype=torch.float32, contiguous=True),\n",
      "                high=Tensor(shape=torch.Size([12, 21]), device=cuda:0, dtype=torch.float32, contiguous=True)),\n",
      "            device=cuda:0,\n",
      "            dtype=torch.float32,\n",
      "            domain=continuous),\n",
      "        device=cuda:0,\n",
      "        shape=torch.Size([12])),\n",
      "    device=cuda:0,\n",
      "    shape=torch.Size([12]))\n",
      "action_spec (as defined by input_spec): BoundedTensorSpec(\n",
      "    shape=torch.Size([12, 21]),\n",
      "    space=ContinuousBox(\n",
      "        low=Tensor(shape=torch.Size([12, 21]), device=cuda:0, dtype=torch.float32, contiguous=True),\n",
      "        high=Tensor(shape=torch.Size([12, 21]), device=cuda:0, dtype=torch.float32, contiguous=True)),\n",
      "    device=cuda:0,\n",
      "    dtype=torch.float32,\n",
      "    domain=continuous)\n"
     ]
    }
   ],
   "source": [
    "print(\"observation_spec:\", env.observation_spec)\n",
    "print(\"reward_spec:\", env.reward_spec)\n",
    "print(\"input_spec:\", env.input_spec)\n",
    "print(\"action_spec (as defined by input_spec):\", env.action_spec)"
   ]
  },
  {
   "cell_type": "code",
   "execution_count": 27,
   "metadata": {},
   "outputs": [
    {
     "name": "stderr",
     "output_type": "stream",
     "text": [
      "2024-10-18 17:58:52,170 [torchrl][INFO] check_env_specs succeeded!\n"
     ]
    }
   ],
   "source": [
    "# Expect to see no errors when running this cell:\n",
    "check_env_specs(env)"
   ]
  },
  {
   "cell_type": "code",
   "execution_count": 28,
   "metadata": {},
   "outputs": [
    {
     "data": {
      "text/plain": [
       "TensorDict(\n",
       "    fields={\n",
       "        action: Tensor(shape=torch.Size([12, 100, 21]), device=cuda:0, dtype=torch.float32, is_shared=True),\n",
       "        com_velocity: Tensor(shape=torch.Size([12, 100, 3]), device=cuda:0, dtype=torch.float32, is_shared=True),\n",
       "        done: Tensor(shape=torch.Size([12, 100, 1]), device=cuda:0, dtype=torch.bool, is_shared=True),\n",
       "        extremities: Tensor(shape=torch.Size([12, 100, 12]), device=cuda:0, dtype=torch.float32, is_shared=True),\n",
       "        head_height: Tensor(shape=torch.Size([12, 100, 1]), device=cuda:0, dtype=torch.float32, is_shared=True),\n",
       "        joint_angles: Tensor(shape=torch.Size([12, 100, 21]), device=cuda:0, dtype=torch.float32, is_shared=True),\n",
       "        next: TensorDict(\n",
       "            fields={\n",
       "                com_velocity: Tensor(shape=torch.Size([12, 100, 3]), device=cuda:0, dtype=torch.float32, is_shared=True),\n",
       "                done: Tensor(shape=torch.Size([12, 100, 1]), device=cuda:0, dtype=torch.bool, is_shared=True),\n",
       "                extremities: Tensor(shape=torch.Size([12, 100, 12]), device=cuda:0, dtype=torch.float32, is_shared=True),\n",
       "                head_height: Tensor(shape=torch.Size([12, 100, 1]), device=cuda:0, dtype=torch.float32, is_shared=True),\n",
       "                joint_angles: Tensor(shape=torch.Size([12, 100, 21]), device=cuda:0, dtype=torch.float32, is_shared=True),\n",
       "                reward: Tensor(shape=torch.Size([12, 100, 1]), device=cuda:0, dtype=torch.float32, is_shared=True),\n",
       "                step_count: Tensor(shape=torch.Size([12, 100, 1]), device=cuda:0, dtype=torch.int64, is_shared=True),\n",
       "                terminated: Tensor(shape=torch.Size([12, 100, 1]), device=cuda:0, dtype=torch.bool, is_shared=True),\n",
       "                torso_vertical: Tensor(shape=torch.Size([12, 100, 3]), device=cuda:0, dtype=torch.float32, is_shared=True),\n",
       "                truncated: Tensor(shape=torch.Size([12, 100, 1]), device=cuda:0, dtype=torch.bool, is_shared=True),\n",
       "                velocity: Tensor(shape=torch.Size([12, 100, 27]), device=cuda:0, dtype=torch.float32, is_shared=True)},\n",
       "            batch_size=torch.Size([12, 100]),\n",
       "            device=cuda:0,\n",
       "            is_shared=True),\n",
       "        step_count: Tensor(shape=torch.Size([12, 100, 1]), device=cuda:0, dtype=torch.int64, is_shared=True),\n",
       "        terminated: Tensor(shape=torch.Size([12, 100, 1]), device=cuda:0, dtype=torch.bool, is_shared=True),\n",
       "        torso_vertical: Tensor(shape=torch.Size([12, 100, 3]), device=cuda:0, dtype=torch.float32, is_shared=True),\n",
       "        truncated: Tensor(shape=torch.Size([12, 100, 1]), device=cuda:0, dtype=torch.bool, is_shared=True),\n",
       "        velocity: Tensor(shape=torch.Size([12, 100, 27]), device=cuda:0, dtype=torch.float32, is_shared=True)},\n",
       "    batch_size=torch.Size([12, 100]),\n",
       "    device=cuda:0,\n",
       "    is_shared=True)"
      ]
     },
     "execution_count": 28,
     "metadata": {},
     "output_type": "execute_result"
    }
   ],
   "source": [
    "n_steps = 100\n",
    "env.rollout(n_steps)"
   ]
  },
  {
   "cell_type": "markdown",
   "metadata": {},
   "source": [
    "### Policy"
   ]
  },
  {
   "cell_type": "markdown",
   "metadata": {},
   "source": [
    "PPO uses a stochastic policy to facilitate exploration. Thus, we need the network to output probability distributions over the actions. We will use a Tanh-Normal distribution to respect the action space boundaries.\n",
    "We design the policy in three steps:\n",
    "1. Define a network with `D_obs` -> `2*D_action`. `loc` ($\\mu$) and `scale` ($\\sigma$) both have dimension `D_action`.\n",
    "2. Append a NormalParamExtractor to the network to extract the mean and standard deviation of the distribution from the last layer of the network.\n",
    "3. Create a probablistic `TensorDictModule` that can generate this distribution and sample from it."
   ]
  },
  {
   "cell_type": "code",
   "execution_count": 29,
   "metadata": {},
   "outputs": [],
   "source": [
    "actor_net = nn.Sequential(\n",
    "    nn.LazyLinear(num_cells, device=device),\n",
    "    nn.Tanh(),\n",
    "    nn.LazyLinear(num_cells, device=device),\n",
    "    nn.Tanh(),\n",
    "    nn.LazyLinear(num_cells, device=device),\n",
    "    nn.Tanh(),\n",
    "    nn.LazyLinear(2 * env.action_spec.shape[-1], device=device),\n",
    "    NormalParamExtractor(),\n",
    ")"
   ]
  },
  {
   "cell_type": "markdown",
   "metadata": {},
   "source": [
    "To enable the policy to communicate with the environment through the `TensorDict` data carrier, we need to wrap the `nn.Module` with a `TensorDictModule`. This class will simply ready the `in_keys` it is provided with and write the output in-place at the registered `out_keys`."
   ]
  },
  {
   "cell_type": "code",
   "execution_count": 30,
   "metadata": {},
   "outputs": [],
   "source": [
    "policy_module = TensorDictModule(\n",
    "    actor_net,\n",
    "    in_keys=keys,\n",
    "    out_keys=[\"loc\", \"scale\"],\n",
    ")"
   ]
  },
  {
   "cell_type": "markdown",
   "metadata": {},
   "source": [
    "We now need to build a distribution out of the location and scale of our normal distribution. To do so, we instriuct the `ProbabilisticActor` to build a `TanhNormal` distribution."
   ]
  },
  {
   "cell_type": "code",
   "execution_count": 31,
   "metadata": {},
   "outputs": [],
   "source": [
    "policy_module = ProbabilisticActor(\n",
    "    module=policy_module,\n",
    "    spec=env.action_spec,\n",
    "    in_keys=[\"loc\", \"scale\"],\n",
    "    distribution_class=TanhNormal,\n",
    "    distribution_kwargs={\n",
    "        \"min\": env.action_spec.space.low,\n",
    "        \"max\": env.action_spec.space.high,\n",
    "    },\n",
    "    return_log_prob=True,\n",
    ")"
   ]
  },
  {
   "cell_type": "markdown",
   "metadata": {},
   "source": [
    "### Value network"
   ]
  },
  {
   "cell_type": "markdown",
   "metadata": {},
   "source": [
    "The value network is only used during training to provide an estimate of the discounted reward for the trajectory. This allows us to amortize learning by relying on some utility estimation that is learned on-the-fly during training. The value network shares the same structure as the policy network, but for simplicity, we will assign it its own parameters."
   ]
  },
  {
   "cell_type": "code",
   "execution_count": 32,
   "metadata": {},
   "outputs": [],
   "source": [
    "value_net = nn.Sequential(\n",
    "    nn.LazyLinear(num_cells, device=device),\n",
    "    nn.Tanh(),\n",
    "    nn.LazyLinear(num_cells, device=device),\n",
    "    nn.Tanh(),\n",
    "    nn.LazyLinear(num_cells, device=device),\n",
    "    nn.Tanh(),\n",
    "    nn.LazyLinear(1, device=device),\n",
    ")\n",
    "value_module = ValueOperator(\n",
    "    module=value_net,\n",
    "    in_keys=keys,    \n",
    ")"
   ]
  },
  {
   "cell_type": "markdown",
   "metadata": {},
   "source": [
    "Thanks to the `TensorDictModule` wrapper, we can read the output of the environment."
   ]
  },
  {
   "cell_type": "code",
   "execution_count": 33,
   "metadata": {},
   "outputs": [
    {
     "name": "stdout",
     "output_type": "stream",
     "text": [
      "Running policy:  TensorDict(\n",
      "    fields={\n",
      "        action: Tensor(shape=torch.Size([12, 21]), device=cuda:0, dtype=torch.float32, is_shared=True),\n",
      "        com_velocity: Tensor(shape=torch.Size([12, 3]), device=cuda:0, dtype=torch.float32, is_shared=True),\n",
      "        done: Tensor(shape=torch.Size([12, 1]), device=cuda:0, dtype=torch.bool, is_shared=True),\n",
      "        extremities: Tensor(shape=torch.Size([12, 12]), device=cuda:0, dtype=torch.float32, is_shared=True),\n",
      "        head_height: Tensor(shape=torch.Size([12, 1]), device=cuda:0, dtype=torch.float32, is_shared=True),\n",
      "        joint_angles: Tensor(shape=torch.Size([12, 21]), device=cuda:0, dtype=torch.float32, is_shared=True),\n",
      "        loc: Tensor(shape=torch.Size([12, 21]), device=cuda:0, dtype=torch.float32, is_shared=True),\n",
      "        sample_log_prob: Tensor(shape=torch.Size([12]), device=cuda:0, dtype=torch.float32, is_shared=True),\n",
      "        scale: Tensor(shape=torch.Size([12, 21]), device=cuda:0, dtype=torch.float32, is_shared=True),\n",
      "        step_count: Tensor(shape=torch.Size([12, 1]), device=cuda:0, dtype=torch.int64, is_shared=True),\n",
      "        terminated: Tensor(shape=torch.Size([12, 1]), device=cuda:0, dtype=torch.bool, is_shared=True),\n",
      "        torso_vertical: Tensor(shape=torch.Size([12, 3]), device=cuda:0, dtype=torch.float32, is_shared=True),\n",
      "        truncated: Tensor(shape=torch.Size([12, 1]), device=cuda:0, dtype=torch.bool, is_shared=True),\n",
      "        velocity: Tensor(shape=torch.Size([12, 27]), device=cuda:0, dtype=torch.float32, is_shared=True)},\n",
      "    batch_size=torch.Size([12]),\n",
      "    device=cuda:0,\n",
      "    is_shared=True)\n",
      "Running value:  TensorDict(\n",
      "    fields={\n",
      "        com_velocity: Tensor(shape=torch.Size([12, 3]), device=cuda:0, dtype=torch.float32, is_shared=True),\n",
      "        done: Tensor(shape=torch.Size([12, 1]), device=cuda:0, dtype=torch.bool, is_shared=True),\n",
      "        extremities: Tensor(shape=torch.Size([12, 12]), device=cuda:0, dtype=torch.float32, is_shared=True),\n",
      "        head_height: Tensor(shape=torch.Size([12, 1]), device=cuda:0, dtype=torch.float32, is_shared=True),\n",
      "        joint_angles: Tensor(shape=torch.Size([12, 21]), device=cuda:0, dtype=torch.float32, is_shared=True),\n",
      "        state_value: Tensor(shape=torch.Size([12, 1]), device=cuda:0, dtype=torch.float32, is_shared=True),\n",
      "        step_count: Tensor(shape=torch.Size([12, 1]), device=cuda:0, dtype=torch.int64, is_shared=True),\n",
      "        terminated: Tensor(shape=torch.Size([12, 1]), device=cuda:0, dtype=torch.bool, is_shared=True),\n",
      "        torso_vertical: Tensor(shape=torch.Size([12, 3]), device=cuda:0, dtype=torch.float32, is_shared=True),\n",
      "        truncated: Tensor(shape=torch.Size([12, 1]), device=cuda:0, dtype=torch.bool, is_shared=True),\n",
      "        velocity: Tensor(shape=torch.Size([12, 27]), device=cuda:0, dtype=torch.float32, is_shared=True)},\n",
      "    batch_size=torch.Size([12]),\n",
      "    device=cuda:0,\n",
      "    is_shared=True)\n"
     ]
    },
    {
     "name": "stderr",
     "output_type": "stream",
     "text": [
      "/home/michael/Synology/Desktop/Data/Python/MuJoCo/mujoco_stability/.pixi/envs/default/lib/python3.10/site-packages/torchrl/modules/distributions/continuous.py:357: DeprecationWarning: the min / high keyword arguments are deprecated in favor of low / high in TanhNormal and will be removed entirely in v0.6. \n",
      "  warnings.warn(\n"
     ]
    }
   ],
   "source": [
    "print(\"Running policy: \", policy_module(env.reset()))\n",
    "print(\"Running value: \", value_module(env.reset()))"
   ]
  },
  {
   "cell_type": "markdown",
   "metadata": {},
   "source": [
    "### Data collector"
   ]
  },
  {
   "cell_type": "markdown",
   "metadata": {},
   "source": [
    "TorchRL has a set of `DataCollector` classes that are used to 1. reset and environment, 2. compute an action given the lastest observation, and 3. repeat the last two steps until the environment sends the stop signal.\n",
    "The simplest data collector is the `SyncDataCollector`, which will collect data in parallel. If we wanted to collect data in parallel over a set of multiprocessed workers, we could use the `MultiSyncDataCollector` or `MutliaSyncDataCollector` classes for synchronous or asynchronous execution, respectively."
   ]
  },
  {
   "cell_type": "code",
   "execution_count": 34,
   "metadata": {},
   "outputs": [],
   "source": [
    "collector = SyncDataCollector(\n",
    "    env,\n",
    "    policy_module,\n",
    "    frames_per_batch=frames_per_batch,\n",
    "    total_frames=total_frames,\n",
    "    split_trajs=False,\n",
    "    device=device,\n",
    ")\n"
   ]
  },
  {
   "cell_type": "markdown",
   "metadata": {},
   "source": [
    "### Replay buffer"
   ]
  },
  {
   "cell_type": "markdown",
   "metadata": {},
   "source": [
    "Replay buffers are a common building piece of off-policy RL algorithms, but in on-policy contexts, the replay buffer is refilled every time a batch is collected. That data is repeatedly consumed for a certain number of epochs.\n",
    "TorchRL's replay buffers are built using a common container, `ReplayBuffer`, which takes as argument the components of the buffer: a storage, a writer, a sampler, and possibly some other transforms. Only the storage (which indicates the buffer capacity) is mandatory. We will also specify that we want a sampler without repitition to avoid sample the same item multiple times within one epoch."
   ]
  },
  {
   "cell_type": "code",
   "execution_count": 35,
   "metadata": {},
   "outputs": [],
   "source": [
    "replay_buffer = ReplayBuffer(\n",
    "    storage=LazyTensorStorage(max_size=frames_per_batch),\n",
    "    sampler=SamplerWithoutReplacement(),\n",
    "    # transform=None,\n",
    ")"
   ]
  },
  {
   "cell_type": "markdown",
   "metadata": {},
   "source": [
    "### Loss function"
   ]
  },
  {
   "cell_type": "markdown",
   "metadata": {},
   "source": [
    "The PPO loss can be directly imported from TorchRL as `ClipPPOLoss`. This hides away both the mathematical operations and the control flow that goes with it. \n",
    "PPO requres some \"advantage estimation\" to be computed. Basically, an advantage is a value that reflects an expectancy of reward while dealing with the bias/variance tradeoff. We will need to pass each batch of data to n advantage estimation module before the epoch begins. The GAE will update the `TensorDict` with the advantage and value targets. The `value_target` is a gradient-free tensor that represents the empirical value that the value network should represent with the input observation. Both of these will be used by the loss function to return the policy and value losses."
   ]
  },
  {
   "cell_type": "code",
   "execution_count": 36,
   "metadata": {},
   "outputs": [],
   "source": [
    "advantage_module = GAE(\n",
    "    gamma=gamma,\n",
    "    lmbda=lmbda,\n",
    "    value_network=value_module,\n",
    "    average_gae=True,\n",
    ")\n",
    "loss_module = ClipPPOLoss(\n",
    "    actor_network=policy_module,\n",
    "    critic_network=value_module,\n",
    "    clip_epsilon=clip_epsilon,\n",
    "    entropy_bonus=bool(entropy_eps),\n",
    "    entropy_coef=entropy_eps,\n",
    "    # these keys are the defaults, but let's be explicit\n",
    "    critic_coef=1.0,\n",
    "    loss_critic_type=\"smooth_l1\",\n",
    ")"
   ]
  },
  {
   "cell_type": "markdown",
   "metadata": {},
   "source": [
    "### Optimizer and scheduler"
   ]
  },
  {
   "cell_type": "code",
   "execution_count": 37,
   "metadata": {},
   "outputs": [],
   "source": [
    "optim = torch.optim.Adam(loss_module.parameters(), lr=lr)\n",
    "scheduler = torch.optim.lr_scheduler.CosineAnnealingLR(\n",
    "    optim, total_frames // frames_per_batch, 0.0)"
   ]
  },
  {
   "cell_type": "markdown",
   "metadata": {},
   "source": [
    "### Training loop"
   ]
  },
  {
   "cell_type": "markdown",
   "metadata": {},
   "source": [
    "Our training loop with have the following structure:\n",
    "- Collect data from the environment\n",
    "    - Compute the advantage estimates\n",
    "        - Loop over the collected data to compute the loss values\n",
    "        - Backpropagate the loss values\n",
    "        - Optimize the parameters\n",
    "        - Repeat\n",
    "- Repeat"
   ]
  },
  {
   "cell_type": "code",
   "execution_count": 38,
   "metadata": {},
   "outputs": [
    {
     "data": {
      "application/vnd.jupyter.widget-view+json": {
       "model_id": "0b51c5c84565460c957a622c75e1b6bb",
       "version_major": 2,
       "version_minor": 0
      },
      "text/plain": [
       "  0%|          | 0/500000 [00:00<?, ?it/s]"
      ]
     },
     "metadata": {},
     "output_type": "display_data"
    }
   ],
   "source": [
    "logs = defaultdict(list)\n",
    "pbar = tqdm(total=total_frames)\n",
    "eval_str = \"\"\n",
    "\n",
    "for i, tensordict_data in enumerate(collector):\n",
    "    # now working on one batch of data\n",
    "    for _ in range(num_epochs):\n",
    "        # Compute the advantage estimates\n",
    "        advantage_module(tensordict_data)\n",
    "        data_view = tensordict_data.reshape(-1)\n",
    "        replay_buffer.extend(data_view.cpu())\n",
    "        for _ in range(frames_per_batch // sub_batch_size):\n",
    "            tensordict_data[\"sample_log_prob\"] = tensordict_data[\"sample_log_prob\"].detach()\n",
    "            subdata = replay_buffer.sample(sub_batch_size)\n",
    "            loss_vals = loss_module(subdata.to(device))\n",
    "            loss_value = (\n",
    "                loss_vals[\"loss_objective\"]\n",
    "                + loss_vals[\"loss_critic\"]\n",
    "                + loss_vals[\"loss_entropy\"]\n",
    "            )\n",
    "\n",
    "            # Optimization step\n",
    "            loss_value.backward()\n",
    "            torch.nn.utils.clip_grad_norm_(loss_module.parameters(), max_grad_norm)\n",
    "            optim.step()\n",
    "            optim.zero_grad()\n",
    "    logs[\"reward\"].append(tensordict_data[\"next\",\"reward\"].mean().item())\n",
    "    pbar.update(tensordict_data.numel())\n",
    "    cum_reward_str = (\n",
    "        f\"average reward={logs['reward'][-1]:4.4f} (init={logs['reward'][0]: 4.4f})\"\n",
    "    )\n",
    "    logs[\"step_count\"].append(tensordict_data[\"step_count\"].max().item())\n",
    "    stepcount_str = f\"step count (max): {logs['step_count'][-1]}\"\n",
    "    \n",
    "    if i % 10 == 0:\n",
    "        # To evaluate the policy, we just execute it without exploration\n",
    "        with set_exploration_type(ExplorationType.MEAN), torch.no_grad():\n",
    "            eval_rollout = env.rollout(1000, policy_module)\n",
    "            logs[\"eval reward (sum)\"].append(\n",
    "                eval_rollout[\"next\", \"reward\"].sum().item()\n",
    "            )\n",
    "            logs[\"eval step_count\"].append(\n",
    "                eval_rollout[\"step_count\"].max().item()\n",
    "            )\n",
    "            # lr_str = f\"lr policy: {logs['lr'][-1]: 4.4f}\"\n",
    "\n",
    "            eval_str = (\n",
    "                f\"eval reward (sum)={logs['eval reward (sum)'][-1]: 4.4f}\"\n",
    "                f\"(init={logs['eval reward (sum)'][0]: 4.4f})\"\n",
    "                f\"eval step_count={logs['eval step_count'][-1]}\"\n",
    "            )\n",
    "            del eval_rollout\n",
    "    pbar.set_description(\", \".join([eval_str, cum_reward_str, stepcount_str]))\n",
    "    scheduler.step()"
   ]
  },
  {
   "cell_type": "code",
   "execution_count": 39,
   "metadata": {},
   "outputs": [
    {
     "data": {
      "image/png": "[encoded data removed]",
      "text/plain": [
       "<Figure size 1000x1000 with 4 Axes>"
      ]
     },
     "metadata": {},
     "output_type": "display_data"
    }
   ],
   "source": [
    "plt.figure(figsize=(10, 10))\n",
    "plt.subplot(2, 2, 1)\n",
    "plt.plot(logs[\"reward\"])\n",
    "plt.title(\"training rewards (average)\")\n",
    "plt.subplot(2, 2, 2)\n",
    "plt.plot(logs[\"step_count\"])\n",
    "plt.title(\"Max step count (training)\")\n",
    "plt.subplot(2, 2, 3)\n",
    "plt.plot(logs[\"eval reward (sum)\"])\n",
    "plt.title(\"Return (test)\")\n",
    "plt.subplot(2, 2, 4)\n",
    "plt.plot(logs[\"eval step_count\"])\n",
    "plt.title(\"Max step count (test)\")\n",
    "plt.show()"
   ]
  },
  {
   "cell_type": "code",
   "execution_count": null,
   "metadata": {},
   "outputs": [],
   "source": []
  }
 ],
 "metadata": {
  "kernelspec": {
   "display_name": "Python 3 (ipykernel)",
   "language": "python",
   "name": "python3"
  },
  "language_info": {
   "codemirror_mode": {
    "name": "ipython",
    "version": 3
   },
   "file_extension": ".py",
   "mimetype": "text/x-python",
   "name": "python",
   "nbconvert_exporter": "python",
   "pygments_lexer": "ipython3",
   "version": "3.10.15"
  }
 },
 "nbformat": 4,
 "nbformat_minor": 2
}
